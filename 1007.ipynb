{
 "cells": [
  {
   "cell_type": "code",
   "execution_count": 6,
   "metadata": {
    "collapsed": false,
    "scrolled": true
   },
   "outputs": [
    {
     "name": "stdout",
     "output_type": "stream",
     "text": [
      "906609\n"
     ]
    }
   ],
   "source": [
    "num = 0\n",
    "for i in range(100,1000):\n",
    "    for j in range(i,1000):\n",
    "        n = i*j\n",
    "        sn = str(n)\n",
    "        if sn == sn[::-1] and n > num:\n",
    "            num = n\n",
    "print num"
   ]
  },
  {
   "cell_type": "markdown",
   "metadata": {},
   "source": [
    "프로젝트 오일러 4번 문제에 대한 소스코드입니다."
   ]
  },
  {
   "cell_type": "code",
   "execution_count": 4,
   "metadata": {
    "collapsed": false,
    "scrolled": false
   },
   "outputs": [
    {
     "name": "stdout",
     "output_type": "stream",
     "text": [
      "232792560\n"
     ]
    }
   ],
   "source": [
    "num = 1\n",
    "while(1):\n",
    "    if(num%2==0 and num%3==0 and num%4==0 and num%5==0 and \n",
    "      num%6==0 and num%7==0 and num%8==0 and num%9==0 and \n",
    "      num%10==0 and num%11==0 and num%12==0 and num%13==0 and \n",
    "      num%14==0 and num%15==0 and num%16==0 and num%17==0 and \n",
    "      num%18==0 and num%19==0 and num%20==0):\n",
    "        print num\n",
    "        break\n",
    "    num = num+1     "
   ]
  },
  {
   "cell_type": "markdown",
   "metadata": {},
   "source": [
    "프로젝트 오일러 5번 문제에 대한 소스코드입니다. 무식한 방법이지만, 가장 이해하기 편한 코드인것 같아 작성했습니다."
   ]
  },
  {
   "cell_type": "code",
   "execution_count": 1,
   "metadata": {
    "collapsed": false
   },
   "outputs": [
    {
     "name": "stdout",
     "output_type": "stream",
     "text": [
      "25164150\n"
     ]
    }
   ],
   "source": [
    "print(pow(sum(i for i in range(1,101)),2)-sum(x*x for x in range(1,101)))"
   ]
  },
  {
   "cell_type": "markdown",
   "metadata": {},
   "source": [
    "프로젝트 오일러 5번 문제에 대한 소스코드입니다."
   ]
  },
  {
   "cell_type": "code",
   "execution_count": null,
   "metadata": {
    "collapsed": true
   },
   "outputs": [],
   "source": []
  }
 ],
 "metadata": {
  "anaconda-cloud": {},
  "kernelspec": {
   "display_name": "Python [Root]",
   "language": "python",
   "name": "Python [Root]"
  },
  "language_info": {
   "codemirror_mode": {
    "name": "ipython",
    "version": 2
   },
   "file_extension": ".py",
   "mimetype": "text/x-python",
   "name": "python",
   "nbconvert_exporter": "python",
   "pygments_lexer": "ipython2",
   "version": "2.7.12"
  }
 },
 "nbformat": 4,
 "nbformat_minor": 0
}
