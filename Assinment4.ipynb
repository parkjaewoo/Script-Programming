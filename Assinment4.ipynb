{
 "cells": [
  {
   "cell_type": "code",
   "execution_count": 61,
   "metadata": {
    "collapsed": false
   },
   "outputs": [
    {
     "name": "stdout",
     "output_type": "stream",
     "text": [
      "pig ham\n",
      "cat dog\n",
      "ham bird\n",
      "dog pig\n",
      "\n"
     ]
    }
   ],
   "source": [
    "s = \"\"\"pig ham\n",
    "cat dog\n",
    "ham bird\n",
    "dog pig\n",
    "\"\"\"\n",
    "f = open('s.txt', 'w')\n",
    "f.write(s) # 문자열을 파일에 기록\n",
    "f.close()\n",
    "\n",
    "f = open('s.txt', 'r')\n",
    "s = f.read()\n",
    "print s\n"
   ]
  },
  {
   "cell_type": "markdown",
   "metadata": {},
   "source": [
    "# 1번\n",
    "\n",
    "기본적인 파일 입출력 문제 입니다.\n",
    "\n",
    "\n",
    "open 함수를 통하여 txt파일을 쓰기 형식으로 연 후,\n",
    "\n",
    "\n",
    "문자열을 파일에 기록 한 후, 파일을 닫고 다시 열어서\n",
    "\n",
    "\n",
    "\n",
    "읽은 다음 전체를 문자열 전체를 출력했습니다.\n",
    "\n",
    "\n"
   ]
  },
  {
   "cell_type": "code",
   "execution_count": 62,
   "metadata": {
    "collapsed": false
   },
   "outputs": [
    {
     "name": "stdout",
     "output_type": "stream",
     "text": [
      "cat dog\n",
      "dog pig\n",
      "ham bird\n",
      "pig ham\n",
      "\n"
     ]
    }
   ],
   "source": [
    "f = open('s.txt')\n",
    "s= f.readlines()\n",
    "s.sort()\n",
    "f.close()\n",
    "\n",
    "\n",
    "f = open('s1.txt','w')\n",
    "for i in range(4):\n",
    "    f.write(s[i]) \n",
    "f.close()\n",
    "\n",
    "f = open('s1.txt', 'r')\n",
    "s1 = f.read()\n",
    "print s1\n"
   ]
  },
  {
   "cell_type": "markdown",
   "metadata": {},
   "source": [
    "# 1-2\n",
    "\n",
    "txt 파일을 생성 후 한줄씩 읽어 파일에 저장 후 정렬합니다.\n",
    "\n",
    "그 후 range 함수를 이용하여 저장되어 있는 문자열을 한줄씩 파일에\n",
    "\n",
    "쓰고 파일을 닫고, 다시 열어 읽은 후 출력했습니다."
   ]
  },
  {
   "cell_type": "code",
   "execution_count": 2,
   "metadata": {
    "collapsed": false
   },
   "outputs": [
    {
     "name": "stdout",
     "output_type": "stream",
     "text": [
      "ham bird\n",
      "cat dog\n",
      "pig ham\n",
      "dog pig\n",
      "\n"
     ]
    }
   ],
   "source": [
    "def cmp_1(a1, a2):\n",
    "    return cmp(a2[1],a1[1])\n",
    "\n",
    "f = open('s.txt')\n",
    "s0= f.readlines()\n",
    "s0.sort(cmp_1) # 역정렬\n",
    "f.close()\n",
    "\n",
    "\n",
    "f = open('s2.txt','w')\n",
    "for i in range(len(s0)-1,-1,-1): #역으로 출력\n",
    "    f.write(s0[i])  \n",
    "f.close()\n",
    "\n",
    "f = open('s2.txt', 'r')\n",
    "s2 = f.read()\n",
    "print s2\n"
   ]
  },
  {
   "cell_type": "markdown",
   "metadata": {},
   "source": [
    "# 1-3\n",
    "\n",
    "조금 복잡하게 했습니다. cmp 비슷한 함수 하나를 만들었습니다.\n",
    "\n",
    "\n",
    "그 후 한줄씩 읽어서 역정렬로 저장한 후 파일을 다시 하나 만들었습니다.\n",
    "\n",
    "그 후 인덱싱,슬라이싱을 이용해서 맨 끝부터 하나씩 순서대로 파일에\n",
    "\n",
    "\n",
    "쓴 후, 파일을 닫고 읽어서 출력했습니다."
   ]
  },
  {
   "cell_type": "code",
   "execution_count": 3,
   "metadata": {
    "collapsed": false
   },
   "outputs": [
    {
     "name": "stdout",
     "output_type": "stream",
     "text": [
      " pig ham cat\n",
      " dog ham bird\n",
      " dog pig\n"
     ]
    }
   ],
   "source": [
    "f = open('s.txt')\n",
    "s= f.readlines()\n",
    "s1 = s[0]+s[1]+s[2]+s[3]\n",
    "s2 =s1.split()\n",
    "s3 = ''\n",
    "for x in range(len(s2)):\n",
    "    count = 1\n",
    "    s3 = s3 +\" \" + s2[x] \n",
    "    count = count + x\n",
    "    if count%3 == 0:  #3개씩 나눠 출력\n",
    "        s3 = s3+ \"\\n\"\n",
    "print s3\n",
    "f.close()"
   ]
  },
  {
   "cell_type": "markdown",
   "metadata": {},
   "source": [
    "# 1-4\n",
    "\n",
    "마찬가지로 한줄씩 읽어서 s1에 저장했습니다.\n",
    "\n",
    "그 후 공백을 제거하고 리스트화 시켰습니다.\n",
    "\n",
    "마지막으로 단어 3개씩 한줄로 만들며, 3개가 넘어가면\n",
    "\n",
    "다음줄로 넘어가도록 range 함수를 이용했습니다.\n",
    "\n",
    "그 작업을 진행하고 전체적으로 출력했습니다."
   ]
  },
  {
   "cell_type": "code",
   "execution_count": 1,
   "metadata": {
    "collapsed": false
   },
   "outputs": [
    {
     "name": "stderr",
     "output_type": "stream",
     "text": [
      "C:\\Users\\Jaewoo Park\\Anaconda2\\lib\\site-packages\\ipykernel\\__main__.py:1: DeprecationWarning: the sha module is deprecated; use the hashlib module instead\n",
      "  if __name__ == '__main__':\n"
     ]
    },
    {
     "name": "stdout",
     "output_type": "stream",
     "text": [
      "Welcome to Our Service\n",
      "1.Sign Up\n",
      "2.Sign In\n",
      "3.Quit\n",
      "\n",
      "Select Number: 1\n",
      "ID : pjw\n",
      "Sorry, the entered ID is already used.\n",
      "\n",
      "ID : JW\n",
      "Sorry, the entered ID is already used.\n",
      "\n",
      "ID : ASD\n",
      "Password : 910\n",
      "Name : JWP\n",
      "School : KUT\n",
      "\n",
      "Welcome to Our Service\n",
      "1.Sign Up\n",
      "2.Sign In\n",
      "3.Quit\n",
      "\n",
      "Select Number: 2\n",
      "ID : sdgsdgsdggggggggggggg\n",
      "Sorry, you are not a registered member\n",
      "\n",
      "ID : ASD\n",
      "Password : 12312414114\n",
      "Sorry, the entered password is not correct\n",
      "Password : 910\n",
      "Hello JWP!\n",
      "\n",
      "Welcome to Our Service\n",
      "1.Sign Up\n",
      "2.Sign In\n",
      "3.Quit\n",
      "\n",
      "Select Number: 3\n"
     ]
    }
   ],
   "source": [
    "import sha\n",
    "\n",
    "command = 0\n",
    "while(command != 3):\n",
    "    print \"Welcome to Our Service\"\n",
    "    print \"1.Sign Up\"\n",
    "    print \"2.Sign In\" #선택 부분\n",
    "    print \"3.Quit\"\n",
    "    print\n",
    "\n",
    "    command = input(\"Select Number: \")\n",
    "    if command == 3:\n",
    "        break\n",
    "        \n",
    "    if command == 1:                     #여러 정보들이 저장되어 있던 access파일 열기\n",
    "        f =open('access.txt','a')\n",
    "        f1 = open('access.txt','r')\n",
    "        r = f1.read()\n",
    "        count = 0\n",
    "        while(count==0):\n",
    "            ID = raw_input(\"ID : \")\n",
    "            if r.find(ID) > -1:          # ID가 txt파일에 있을 시 이미 있다고 표시하며 다시 선택부분으로\n",
    "                print \"Sorry, the entered ID is already used.\"\n",
    "                print \n",
    "                continue\n",
    "            else:\n",
    "                count+=1\n",
    "                break\n",
    "        \n",
    "        Password1 = raw_input(\"Password : \")\n",
    "        Password = \"[password]: \" + sha.new(Password1).hexdigest() #패스워드 암호화\n",
    "        Name = raw_input(\"Name : \")\n",
    "        School = \"[school]: \" + raw_input(\"School : \")  #다른 기록사항 입력\n",
    "        print\n",
    "        Total = \"\\n\" + \"[id]: \" + ID + \"\\t\" +Password +\"\\t\" + \"[name]: \" + Name +\"\\t\" + School + \"\\n\"\n",
    "        f.write(Total) #종합적으로 합쳐진 문장을 그대로 파일에 씀.\n",
    "        f1.close()\n",
    "        f.close()\n",
    "    \n",
    "    elif command ==2:              # 1번을 선택했을때와 같이 txt내용을 읽어와야 하므로 read.\n",
    "        f =open('access.txt','a')\n",
    "        f1 = open('access.txt','r')\n",
    "        r = f1.read()\n",
    "        count1=0\n",
    "        count2 = 0\n",
    "        while(count1 == 0):\n",
    "            ID = raw_input(\"ID : \")\n",
    "            if r.find(ID) == -1:\n",
    "                print \"Sorry, you are not a registered member\" #txt파일에 있지 않는 아이디일시 오류 표시\n",
    "                print \n",
    "                continue\n",
    "            else:\n",
    "                while(count2 == 0 ):\n",
    "                    Password1 = raw_input(\"Password : \")\n",
    "                    Password = \"[password]: \" + sha.new(Password1).hexdigest()\n",
    "                    if r.find(Password) == -1:    #아이디와 맞지 않는 비밀번호 입력시 오류 표시\n",
    "                        print \"Sorry, the entered password is not correct\"\n",
    "                        continue\n",
    "                    else:\n",
    "                        print \"Hello \" + Name + \"!\" #모두 맞으면, 이름 출력\n",
    "                        count2+=1\n",
    "                        print\n",
    "                        break\n",
    "                count1+=1\n",
    "                break\n",
    "        f1.close()\n",
    "        f.close()"
   ]
  },
  {
   "cell_type": "markdown",
   "metadata": {},
   "source": [
    "# 2번\n",
    "\n",
    "일단 굉장히 코드가 긴데 전체적인 순서를 먼저 설명하겠습니다.\n",
    "\n",
    "1은 회원가입, 2는 로그인, 3은 프로그램 종료를 말하며, 1번을 선택 시 기존에 있던 access 파일을 읽어오고,\n",
    "\n",
    "ID를 입력하는데, txt파일에 있으면 오류를 출력하며 다시 하도록 100번 정도의 반복문을 돌립니다(그 정도면 충분할거 같았습니다.)\n",
    "\n",
    "ID를 입력 후, password를 입력하는데,  sha 모듈을 이용하여 txt파일에 저장할 때 암호화로 변환하여 파일을 쓰도록 했습니다.\n",
    "\n",
    "name,school을 입력하면 1번은 끝납니다.\n",
    "\n",
    "2번을 선택하면, ID를 입력하는데, txt파일에 없는 아이디를 입력하면 오류를 출력하며, \n",
    "\n",
    "Password 역시 잘못 입력하면, 오류를 출력하도록 했습니다. 그 후 맞게 입력하면 회원가입 할 때 입력한 name이 Hello와 같이 출력하도록\n",
    "\n",
    "했습니다. 3번을 선택하면 프로그램이 종료로 마무리 됩니다.\n",
    "\n",
    "눈 여겨 보셔야 할 부분은 주석으로 표시했습니다."
   ]
  },
  {
   "cell_type": "code",
   "execution_count": 4,
   "metadata": {
    "collapsed": false
   },
   "outputs": [
    {
     "name": "stdout",
     "output_type": "stream",
     "text": [
      "[0, 0.1, 0.2]\n",
      "None\n",
      "[2.1, 2.2]\n",
      "None\n",
      "[1.0, 1.3, 1.6]\n",
      "None\n"
     ]
    }
   ],
   "source": [
    "def frange(a,b=0,c=0.1):        \n",
    "    List=[]\n",
    "    if b<a:  # 매개 변수를 2개 입력했을 때 서로 바꿔 저장.\n",
    "        a,b = b,a\n",
    "    while(a<b):\n",
    "        List.append(a)\n",
    "        a = a+c\n",
    "        if(a>b):\n",
    "            break;\n",
    "    print List\n",
    "\n",
    "print frange(0.3)\n",
    "print frange(2.1,2.3)\n",
    "print frange(1.0,1.9,0.3)"
   ]
  },
  {
   "cell_type": "markdown",
   "metadata": {},
   "source": [
    "#  3번\n",
    "\n",
    "처음에는 frange 함수를 3개로 만들려고 했었는데, 그건 좀 아닌거 같아서 한개의 함수로 만들었습니다.\n",
    "\n",
    "\n",
    "매개변수를 받을 때 따로 정의해야 하는 부분은 맨 뒤에 둬야 합니다. 여기서 고려해야 할 점은 매개변수를 2개 받을 떄인데,\n",
    "\n",
    "\n",
    "그 때는 a,b값을 서로 치환하여 저장하도록 만들었습니다. 그 후엔 start,stop,step을 설정했습니다.\n"
   ]
  },
  {
   "cell_type": "code",
   "execution_count": 73,
   "metadata": {
    "collapsed": false
   },
   "outputs": [
    {
     "name": "stdout",
     "output_type": "stream",
     "text": [
      "0\n",
      "3\n",
      "15\n",
      "5\n"
     ]
    }
   ],
   "source": [
    "def sum(a=0,b=0,c=0,d=0,e=0):\n",
    "    if a == 0 and b == 0 and c == 0 and d ==0 and e==0: #0개\n",
    "        return 0\n",
    "    elif a !=0 and b != 0 and c == 0 and d ==0 and e==0: #2개\n",
    "        return a+b\n",
    "    elif a !=0 and b != 0 and c == 0 and d !=0 and e!=0: #3개\n",
    "        return a+b+c\n",
    "    elif a !=0 and b != 0 and c == 0 and d ==0 and e!=0: #4개\n",
    "        return a+b+c+d\n",
    "    else:\n",
    "        return a+b+c+d+e #5개\n",
    "    \n",
    "print sum()\n",
    "print sum(1,2)\n",
    "print sum(1,2,3,4,5)\n",
    "print sum(1,5,7,2,-10)"
   ]
  },
  {
   "cell_type": "markdown",
   "metadata": {},
   "source": [
    "# 4번\n",
    "\n",
    "매개변수 5개까지 받는 함수를 정의 했습니다.\n",
    "\n",
    "\n",
    "1개일 때 따로, 2,3,4,5 개 각각 따로 동작하도록 작성했습니다.\n",
    "\n"
   ]
  },
  {
   "cell_type": "code",
   "execution_count": 134,
   "metadata": {
    "collapsed": false
   },
   "outputs": [
    {
     "name": "stdout",
     "output_type": "stream",
     "text": [
      "ASAP\n"
     ]
    }
   ],
   "source": [
    "def myinitial(str):\n",
    "    str = str.upper()\n",
    "    str = str.split()\n",
    "    for y in range(len(str)):\n",
    "        s = map(lambda x :x[0][0],str) #즉석함수\n",
    "    s1 = ''.join(s)\n",
    "    return s1\n",
    "\n",
    "print myinitial(\"as soon as possible\")\n"
   ]
  },
  {
   "cell_type": "markdown",
   "metadata": {},
   "source": [
    "# 5번\n",
    "\n",
    "입력받은 문자열을 먼저 대문자화 시킨 후, 공백을 기준으로 단어를 리스트화 시켰습니다.\n",
    "\n",
    "그 후 map과 lambda 를 이용하여 즉석 함수를 만든 후, 리스트 마다 첫글자를 s에 저장했습니다.\n",
    "\n",
    "마지막으로 join을 이용해서 단어를 합치고 출력했습니다."
   ]
  },
  {
   "cell_type": "code",
   "execution_count": 143,
   "metadata": {
    "collapsed": false
   },
   "outputs": [
    {
     "name": "stdout",
     "output_type": "stream",
     "text": [
      "67526802209645841583879061361800814224269427869589384312198268703685091643180416969132446952698303794226010370578672908593198347699886928591906501031587651846976759681112609524787093848004428636186893395272784450630354080243217646658024696659065951793757223520229235577548653833681102170973893746054649126415909143150172860721156685810655759230011450132992176454983227538696340112610447029002337004887877266387704586077293585433151612518800147764461182680822867092786694982831838641800997499819339206579415325649748486265233918911087114592440896594062675914294925816719862178374679272092637524786939036290035924271782253738059886933923447877769583003016705363339031413069155837518524761078342052635475632113169618774549275701480106933362990003732589370593557325299434734459295866728988740794174654391479926000848846686708729736713207285203712732201272410830836913052635365082888725171636081587151603468291106754640398232146673627370895934090777828827549554232436190464827998683927179246029919443251026464452337939599198528297828591122689960620361238248313158071643395848405047261412680039877733761849874447323867911712630023171745968278465780558568067035013885275080292137360491875164947724464221693533755035300065350065137490832039523382963747026185653050331832380991844842560750923543775188582096487476950254418365198999674684417286265442786651594404781622946901879166382930714196908227460133027605817864877377712193142137625430353718448269390732615776645283198828602917680224041088993892610506802195917247838900106910698057030379190571057605849323113308634452008179881165616449767648354161225066967961297609698742737923389391615207441152319392845687673311899247085327703421862972871644495409572259985563215471482083325653231777113271326579970310755604973969708949477374254974480294652427022436705380184064008853457214518515270985563195412993145274057688634448812449445800617631162768243125606424844709372022149908463572254912654907763445758543980999149122998104378965626781898655221443263601405152073199706585080288735040205417371277253096243200000000000000000000000000000000000000000000000000000000000000000000000000000000000000000000000000000000000000000000000000000000000000000000000000000000000000000000000000000000000000000000000000000000000000000000000000000000\n"
     ]
    }
   ],
   "source": [
    "def myfact(N):\n",
    "    if N == 1:           # 종결 조건\n",
    "        return 1         # 종결 조건이 만족할 때의 반환 값\n",
    "    return N * myfact(N-1)  # 재귀 호출\n",
    "\n",
    "print myfact(900)"
   ]
  },
  {
   "cell_type": "markdown",
   "metadata": {},
   "source": [
    "# 6번\n",
    "\n",
    "컴퓨터가 좋지 않아서 900 정도밖에 출력이 되지 않았습니다.\n",
    "\n",
    "강의 자료에 있는 함수를 참고해서 재귀함수를 작성했고, 값을 실험한 출력 결과 입니다."
   ]
  },
  {
   "cell_type": "markdown",
   "metadata": {},
   "source": [
    "# 7번\n",
    "\n",
    "import string은 가장 기본적인 형태로\n",
    "string의 내장함수를 사용할 수 있도록 합니다.\n",
    "\n",
    "\n",
    "from string import *은 string에 존재하는 '__'로 시작되는\n",
    "이름들을 제외한 모든 이름들을 현재 이름 공간으로 불러들입니다.\n",
    "\n",
    "둘의 차이점으로는 import string는 모듈이름을 써야 사용이 가능하지만, from string import*은 모듈 이름 없이 직접 사용 가능합니다. 또한 import하는 이름들이 기존에 미리 존재하고 있었다면 그 이름들에 의해 참조되던 기존 객체들은 상실됩니다."
   ]
  },
  {
   "cell_type": "code",
   "execution_count": 19,
   "metadata": {
    "collapsed": false
   },
   "outputs": [
    {
     "ename": "TypeError",
     "evalue": "'int' object is not callable",
     "output_type": "error",
     "traceback": [
      "\u001b[1;31m---------------------------------------------------------------------------\u001b[0m",
      "\u001b[1;31mTypeError\u001b[0m                                 Traceback (most recent call last)",
      "\u001b[1;32m<ipython-input-19-b0e7c46c6ec7>\u001b[0m in \u001b[0;36m<module>\u001b[1;34m()\u001b[0m\n\u001b[0;32m     45\u001b[0m \u001b[1;33m\u001b[0m\u001b[0m\n\u001b[0;32m     46\u001b[0m     \u001b[0mA\u001b[0m\u001b[1;33m+=\u001b[0m\u001b[1;36m1\u001b[0m\u001b[1;33m\u001b[0m\u001b[0m\n\u001b[1;32m---> 47\u001b[1;33m \u001b[1;32mprint\u001b[0m \u001b[0mmax\u001b[0m\u001b[1;33m(\u001b[0m\u001b[0mlist_value\u001b[0m\u001b[1;33m)\u001b[0m\u001b[1;33m\u001b[0m\u001b[0m\n\u001b[0m",
      "\u001b[1;31mTypeError\u001b[0m: 'int' object is not callable"
     ]
    }
   ],
   "source": [
    "s = '''08 02 22 97 38 15 00 40 00 75 04 05 07 78 52 12 50 77 91 08\n",
    "49 49 99 40 17 81 18 57 60 87 17 40 98 43 69 48 04 56 62 00\n",
    "81 49 31 73 55 79 14 29 93 71 40 67 53 88 30 03 49 13 36 65\n",
    "52 70 95 23 04 60 11 42 69 24 68 56 01 32 56 71 37 02 36 91\n",
    "22 31 16 71 51 67 63 89 41 92 36 54 22 40 40 28 66 33 13 80\n",
    "24 47 32 60 99 03 45 02 44 75 33 53 78 36 84 20 35 17 12 50\n",
    "32 98 81 28 64 23 67 10 26 38 40 67 59 54 70 66 18 38 64 70\n",
    "67 26 20 68 02 62 12 20 95 63 94 39 63 08 40 91 66 49 94 21\n",
    "24 55 58 05 66 73 99 26 97 17 78 78 96 83 14 88 34 89 63 72\n",
    "21 36 23 09 75 00 76 44 20 45 35 14 00 61 33 97 34 31 33 95\n",
    "78 17 53 28 22 75 31 67 15 94 03 80 04 62 16 14 09 53 56 92\n",
    "16 39 05 42 96 35 31 47 55 58 88 24 00 17 54 24 36 29 85 57\n",
    "86 56 00 48 35 71 89 07 05 44 44 37 44 60 21 58 51 54 17 58\n",
    "19 80 81 68 05 94 47 69 28 73 92 13 86 52 17 77 04 89 55 40\n",
    "04 52 08 83 97 35 99 16 07 97 57 32 16 26 26 79 33 27 98 66\n",
    "88 36 68 87 57 62 20 72 03 46 33 67 46 55 12 32 63 93 53 69\n",
    "04 42 16 73 38 25 39 11 24 94 72 18 08 46 29 32 40 62 76 36\n",
    "20 69 36 41 72 30 23 88 34 62 99 69 82 67 59 85 74 04 36 16\n",
    "20 73 35 29 78 31 90 01 74 31 49 71 48 86 81 16 23 57 05 54\n",
    "01 70 54 71 83 51 54 69 16 92 33 48 61 43 52 01 89 19 67 48'''\n",
    "\n",
    "list1 = s.split(\"\\n\")\n",
    "list2 =[]\n",
    "list_value = []\n",
    "for i in list1:\n",
    "    list2.append(i.split())\n",
    "for i in list2:\n",
    "    for t in range(0,len(i)-4+1):\n",
    "        A = 1\n",
    "        for j in i[t:t+4]:\n",
    "            A *= int(j)\n",
    "        list_value.append(A)\n",
    "\n",
    "        \n",
    "t = 0\n",
    "A =0\n",
    "for i in list2:\n",
    "    for t in range(0,len(i)-4+1):\n",
    "        list_value.append(int(i[t])*int(i[t+1])*int(i[t+2])*int(i[t+3]))\n",
    "    t = 0\n",
    "    if A <=len(i)-4-1:\n",
    "        for t in range(0,len(i)-4+1):\n",
    "            list_value.append(int(list2[t][A+3])*int(list2[t+1][A+2])*int(list2[t+2][A+1])*int(list2[t+3][A]))\n",
    "            list_value.append(int(list2[t][A])*int(list2[t+1][A+1])*int(list2[t+2][A+2])*int(list2[t+3][A+3]))\n",
    "        \n",
    "    A+=1\n",
    "print max(list_value)"
   ]
  },
  {
   "cell_type": "code",
   "execution_count": null,
   "metadata": {
    "collapsed": true
   },
   "outputs": [],
   "source": []
  }
 ],
 "metadata": {
  "anaconda-cloud": {},
  "kernelspec": {
   "display_name": "Python [Root]",
   "language": "python",
   "name": "Python [Root]"
  },
  "language_info": {
   "codemirror_mode": {
    "name": "ipython",
    "version": 2
   },
   "file_extension": ".py",
   "mimetype": "text/x-python",
   "name": "python",
   "nbconvert_exporter": "python",
   "pygments_lexer": "ipython2",
   "version": "2.7.12"
  }
 },
 "nbformat": 4,
 "nbformat_minor": 0
}
