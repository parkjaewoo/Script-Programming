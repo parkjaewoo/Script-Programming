{
 "cells": [
  {
   "cell_type": "code",
   "execution_count": 5,
   "metadata": {
    "collapsed": false
   },
   "outputs": [
    {
     "name": "stdout",
     "output_type": "stream",
     "text": [
      " Python  Hellow\n"
     ]
    }
   ],
   "source": [
    "#1\n",
    "a = \" Hellow Python \"\n",
    "a = a[7:] + a[0:7:]\n",
    "print a"
   ]
  },
  {
   "cell_type": "markdown",
   "metadata": {},
   "source": [
    "# 1번문제\n",
    "\n",
    "리스트의 성질을 이용하여 7번째 문자부터 먼저 출력하고, 0번째부터 6번째 문자를 뒤에 출력했습니다."
   ]
  },
  {
   "cell_type": "code",
   "execution_count": 21,
   "metadata": {
    "collapsed": false
   },
   "outputs": [
    {
     "name": "stdout",
     "output_type": "stream",
     "text": [
      "World Python Hellow\n"
     ]
    }
   ],
   "source": [
    "#2\n",
    "b = \" Hellow Python World \"\n",
    "b = b[15:] + b[8:14:] + b[0:7]\n",
    "print b"
   ]
  },
  {
   "cell_type": "markdown",
   "metadata": {},
   "source": [
    "# 2번문제\n",
    "역시 마찬가지로 리스트의 성질을 이용하여 15번째 문자를 첫번째로, 8번째부터 14번째 문제를 두번째로, 0번째부터 6번째까지 \n",
    "마지막으로 출력합니다."
   ]
  },
  {
   "cell_type": "code",
   "execution_count": 6,
   "metadata": {
    "collapsed": false
   },
   "outputs": [
    {
     "name": "stdout",
     "output_type": "stream",
     "text": [
      "wolleH\n"
     ]
    }
   ],
   "source": [
    "#3\n",
    "c = \"Hellow\"\n",
    "c = c[::-1]\n",
    "print c"
   ]
  },
  {
   "cell_type": "markdown",
   "metadata": {},
   "source": [
    "# 3번문제\n",
    "리스트의 성질 중 -1을 넣어주면, 역순으로 출력하게 됩니다."
   ]
  },
  {
   "cell_type": "code",
   "execution_count": 41,
   "metadata": {
    "collapsed": false
   },
   "outputs": [
    {
     "name": "stdout",
     "output_type": "stream",
     "text": [
      "P\n",
      "P\n",
      "P\n"
     ]
    },
    {
     "ename": "IndexError",
     "evalue": "string index out of range",
     "output_type": "error",
     "traceback": [
      "\u001b[1;31m---------------------------------------------------------------------------\u001b[0m",
      "\u001b[1;31mIndexError\u001b[0m                                Traceback (most recent call last)",
      "\u001b[1;32m<ipython-input-41-e274c7b6c8a1>\u001b[0m in \u001b[0;36m<module>\u001b[1;34m()\u001b[0m\n\u001b[0;32m      3\u001b[0m \u001b[1;32mprint\u001b[0m \u001b[0ms\u001b[0m\u001b[1;33m[\u001b[0m\u001b[1;36m0\u001b[0m\u001b[1;33m]\u001b[0m\u001b[1;33m[\u001b[0m\u001b[1;36m0\u001b[0m\u001b[1;33m]\u001b[0m\u001b[1;33m\u001b[0m\u001b[0m\n\u001b[0;32m      4\u001b[0m \u001b[1;32mprint\u001b[0m \u001b[0ms\u001b[0m\u001b[1;33m[\u001b[0m\u001b[1;36m0\u001b[0m\u001b[1;33m]\u001b[0m\u001b[1;33m[\u001b[0m\u001b[1;36m0\u001b[0m\u001b[1;33m]\u001b[0m\u001b[1;33m[\u001b[0m\u001b[1;36m0\u001b[0m\u001b[1;33m]\u001b[0m\u001b[1;33m\u001b[0m\u001b[0m\n\u001b[1;32m----> 5\u001b[1;33m \u001b[1;32mprint\u001b[0m \u001b[0ms\u001b[0m\u001b[1;33m[\u001b[0m\u001b[1;36m100\u001b[0m\u001b[1;33m]\u001b[0m\u001b[1;33m\u001b[0m\u001b[0m\n\u001b[0m\u001b[0;32m      6\u001b[0m \u001b[1;32mprint\u001b[0m \u001b[0ms\u001b[0m\u001b[1;33m[\u001b[0m\u001b[1;33m-\u001b[0m\u001b[1;36m100\u001b[0m\u001b[1;33m]\u001b[0m\u001b[1;33m\u001b[0m\u001b[0m\n\u001b[0;32m      7\u001b[0m \u001b[1;32mprint\u001b[0m \u001b[0ms\u001b[0m\u001b[1;33m[\u001b[0m\u001b[1;33m-\u001b[0m\u001b[1;36m100\u001b[0m\u001b[1;33m,\u001b[0m\u001b[1;36m100\u001b[0m\u001b[1;33m]\u001b[0m\u001b[1;33m\u001b[0m\u001b[0m\n",
      "\u001b[1;31mIndexError\u001b[0m: string index out of range"
     ]
    }
   ],
   "source": [
    "s = \"Python\"\n",
    "print s[0] \n",
    "print s[0][0]\n",
    "print s[0][0][0]\n",
    "print s[100]\n",
    "print s[-100]\n",
    "print s[-100,100]"
   ]
  },
  {
   "cell_type": "code",
   "execution_count": null,
   "metadata": {
    "collapsed": true
   },
   "outputs": [],
   "source": []
  },
  {
   "cell_type": "markdown",
   "metadata": {},
   "source": [
    "# 4번문제\n",
    "1. s[0] 은 1차원 배열 s[0][0]은 2차원 배열, s[0][0][0]은 3차원 배열입니다.\n",
    "2. 1차원 2차원 3차원 모두 P라는 값이 출력 되었는데 이것은 배열에 저장되어 있는 0번째 값을 출력한 것입니다. 따라서 s[5], s[5][0], s[5][0][0] 까지의 값은 출력 되지만 그 이상은 저장된 값이 없어 에러가 생기게 됩니다.\n",
    "\n",
    "3. s[100]이 에러가 생기는 이유는 s[100]번째 값이 저장되어 있지 않기 때문에 에러가 발생합니다.\n",
    "4. S[-100],S[-100,100] 역시 마찬가지의 이유 입니다."
   ]
  },
  {
   "cell_type": "code",
   "execution_count": 1,
   "metadata": {
    "collapsed": false
   },
   "outputs": [
    {
     "name": "stdout",
     "output_type": "stream",
     "text": [
      "ytho\n",
      "\n"
     ]
    }
   ],
   "source": [
    "s = \"Python\"\n",
    "print s[1:-1]\n",
    "print s[3:-3]\n",
    "\n"
   ]
  },
  {
   "cell_type": "markdown",
   "metadata": {},
   "source": [
    "# 5번문제\n",
    "1. 첫번째 print문은 y부터n까지 출력하는데, -1이 설정 돼있으므로, n을 뺀 ytho이 출력합니다.\n",
    "2. 두번째 print문은 h부터n까지 출력하는데, -3이 설정 돼있으므로 hon이 모두 생략되어 아무것도 출력이 안됩니다."
   ]
  },
  {
   "cell_type": "markdown",
   "metadata": {},
   "source": [
    "s[1:-1]의 의미는 s[1]에 저장된 값부터 s[5]-1 즉 s[4]까지 출력 하겠다는 의미 이므로 ytho가 출력되게 됩니다.\n",
    "s[3:-3]의 의미는 s[3]에 저장된 값부터 s[3]-3 즉 hon에서 1글자씩 빼서 3글자를 뺀 공백이 출력되게 됩니다."
   ]
  },
  {
   "cell_type": "code",
   "execution_count": 75,
   "metadata": {
    "collapsed": false
   },
   "outputs": [
    {
     "name": "stdout",
     "output_type": "stream",
     "text": [
      "1\n",
      "3\n",
      "5\n",
      "7\n",
      "9\n",
      "11\n",
      "13\n",
      "15\n",
      "17\n",
      "19\n",
      "21\n",
      "23\n",
      "25\n",
      "27\n",
      "29\n",
      "31\n",
      "33\n",
      "35\n",
      "37\n",
      "39\n",
      "41\n",
      "43\n",
      "45\n",
      "47\n",
      "49\n",
      "51\n",
      "53\n",
      "55\n",
      "57\n",
      "59\n",
      "61\n",
      "63\n",
      "65\n",
      "67\n",
      "69\n",
      "71\n",
      "73\n",
      "75\n",
      "77\n",
      "79\n",
      "81\n",
      "83\n",
      "85\n",
      "87\n",
      "89\n",
      "91\n",
      "93\n",
      "95\n",
      "97\n",
      "99\n"
     ]
    }
   ],
   "source": [
    "for x in range (1,100,2):\n",
    "    print x\n",
    "    "
   ]
  },
  {
   "cell_type": "markdown",
   "metadata": {},
   "source": [
    "# 6번문제\n",
    "for문의 특징 (초기문:조건문:증감문)을 그대로 이용해서 반복문을 완성했습니다."
   ]
  },
  {
   "cell_type": "code",
   "execution_count": 1,
   "metadata": {
    "collapsed": false
   },
   "outputs": [
    {
     "name": "stdout",
     "output_type": "stream",
     "text": [
      "2550\n"
     ]
    }
   ],
   "source": [
    "i = 0\n",
    "count = 0\n",
    "while i <= 100:\n",
    "    count = count + i\n",
    "    i = i+2\n",
    "\n",
    "\n",
    "print count"
   ]
  },
  {
   "cell_type": "markdown",
   "metadata": {},
   "source": [
    "# 7번문제\n",
    "while문을 이용하여 1부터 100까지 짝수합을 완성했습니다.\n",
    "초기문,조건문,증감문이 따로따로 배치되어 있어 for문보단 코드 길이가 길게 되었습니다."
   ]
  },
  {
   "cell_type": "code",
   "execution_count": 2,
   "metadata": {
    "collapsed": false
   },
   "outputs": [
    {
     "name": "stdout",
     "output_type": "stream",
     "text": [
      "Enter Number :  12313\n",
      "31321\n"
     ]
    }
   ],
   "source": [
    "number = raw_input(\"Enter Number :  \")\n",
    "print number[::-1]"
   ]
  },
  {
   "cell_type": "markdown",
   "metadata": {},
   "source": [
    "# 8번문제\n",
    "데이터를 정수가 아니라 문자열로 입력받도록 했습니다.\n",
    "그리고 리스트의 성질을 이용해서 역순으로 출력하도록 작성했습니다."
   ]
  },
  {
   "cell_type": "code",
   "execution_count": 7,
   "metadata": {
    "collapsed": false
   },
   "outputs": [
    {
     "name": "stdout",
     "output_type": "stream",
     "text": [
      "Enter number : 65\n",
      "2\n",
      "3\n",
      "5\n",
      "7\n",
      "11\n",
      "13\n",
      "17\n",
      "19\n",
      "23\n",
      "29\n",
      "31\n",
      "37\n",
      "41\n",
      "43\n",
      "47\n",
      "53\n",
      "59\n",
      "61\n"
     ]
    }
   ],
   "source": [
    "number = input(\"Enter number : \")\n",
    "\n",
    "for x in range(2,number):\n",
    "    count = 0\n",
    "    for y in range(2,x):\n",
    "        if x%y == 0:\n",
    "            count = count + 1\n",
    "            break\n",
    "    if count == 0:\n",
    "        print x\n",
    "\n",
    "\n",
    "\n",
    "      "
   ]
  },
  {
   "cell_type": "markdown",
   "metadata": {},
   "source": [
    "# 9번문제\n",
    "소수를 판별하는 프로그램입니다. 수를 입력받고, count를 따로 선언해서\n",
    "\n",
    "\n",
    "수와 반복제어변수x를 나눈 나머지가 0이면 count를 더해서 조건문으로 소수를 판별하고\n",
    "\n",
    "\n",
    "소수이면 출력하도록 작성했습니다."
   ]
  },
  {
   "cell_type": "code",
   "execution_count": 9,
   "metadata": {
    "collapsed": false
   },
   "outputs": [
    {
     "name": "stdout",
     "output_type": "stream",
     "text": [
      "233168\n"
     ]
    }
   ],
   "source": [
    "sumNumber = 0\n",
    "for x in range(1,1000):\n",
    "    if x%3 == 0:\n",
    "        sumNumber += x\n",
    "    elif x%5 == 0:   \n",
    "        sumNumber += x\n",
    "print sumNumber\n",
    "            "
   ]
  },
  {
   "cell_type": "markdown",
   "metadata": {},
   "source": [
    "# 프로젝트 오일러 1번문제\n",
    "1000보다 작은 자연수 중에서 3 또는 5의 배수를 모두 더하면 얼마일지 구하는 문제였습니다.\n",
    "\n",
    "\n",
    "if문과 elif문을 사용해서 1000까지의 수에서 3의 배수와 5의 배수를 구한 후 모두 더해서 출력했습니다.\n"
   ]
  },
  {
   "cell_type": "code",
   "execution_count": 27,
   "metadata": {
    "collapsed": false
   },
   "outputs": [
    {
     "name": "stdout",
     "output_type": "stream",
     "text": [
      "4613732\n"
     ]
    }
   ],
   "source": [
    "a=0\n",
    "b=1\n",
    "c=0\n",
    "sum = 0\n",
    "while c <=4000000:\n",
    "    a=b\n",
    "    b=c\n",
    "    c=a+b\n",
    "    if c%2==0:\n",
    "        sum = sum + c\n",
    "print sum\n",
    "\n",
    "\n",
    "\n",
    "   \n"
   ]
  },
  {
   "cell_type": "markdown",
   "metadata": {},
   "source": [
    "# 프로젝트오일러 2번문제\n",
    "피보나치 수열에서 4백만 이하이면서 짝수인 항의 합을 구하는 문제였습니다.\n",
    "\n",
    "1항+2항=3항,3항+4항=5항 식으로 진행되는 수열을 피보나치수열이라고 하는데,\n",
    "\n",
    "일정한 규칙이 있다는 것을 발견하고 재귀함수로 만들기보단, while문과 if문을 이용해서 간단하게 작성했습니다.\n"
   ]
  },
  {
   "cell_type": "code",
   "execution_count": 12,
   "metadata": {
    "collapsed": false
   },
   "outputs": [
    {
     "name": "stdout",
     "output_type": "stream",
     "text": [
      "[71, 839, 1471, 6857]\n"
     ]
    }
   ],
   "source": [
    "number= 600851475143\n",
    "factor1 = 2\n",
    "factor2 = factor1\n",
    "L=[]\n",
    "while (factor1<=number) :\n",
    "    if (number%factor1==0):\n",
    "        number=number/factor1\n",
    "        L.append(factor1)\n",
    "        \n",
    "    else:\n",
    "        factor1 +=1\n",
    "print L\n",
    "   \n"
   ]
  },
  {
   "cell_type": "markdown",
   "metadata": {},
   "source": [
    "# 프로젝트오일러 3번문제\n",
    "어떤 수를 소수의 곱으로만 나타내는 것을 소인수분해라 하고, 이 소수들을 그 수의 소인수라고 하는데,\n",
    "\n",
    "\n",
    "600851475143의 소인수 중에서 가장 큰 수를 구하는 문제입니다.\n",
    "\n",
    "처음엔 먼저 간단한 수를 먼저 놓고 약수를 구하고, 약수중에서 소수를 판별한 후, 소수중에서 가장 큰 값을 구하려고 했는데\n",
    "\n",
    "생각보다 어려워서 관두고 다른 방식으로 접근했습니다.\n",
    "\n",
    "친구한테 도움을 받았는데 수를 나누고,나머지가 0일 경우에, 수를 나눈 몫을 수에 저장한 후 리스트에 추가시킵니다.\n",
    "\n",
    "그렇지 않을 경우에는 수에 도달할 때 까지 반복하는 프로그램입니다.\n",
    "\n",
    "반복문을 수행하고 나면 리스트를 출력해서 가장 큰 소수를 확인합니다."
   ]
  },
  {
   "cell_type": "markdown",
   "metadata": {},
   "source": [
    "# 후기 및 소감\n",
    "과제를 하는 동안 헷갈리는 부분을 참고할 수 있다는 점에서 링크와 동영상 강의가 무척이나 도움이 많이 되었습니다.\n",
    "\n",
    "간단해 보이지만, 생각보다 오래걸린 부분도 있었고, 빨리 끝낸 과제도 있었습니다.\n",
    "\n",
    "나중엔 더 어려워질 텐데 잘 따라갈 수만 있다면 더없이 좋을것 같습니다.\n",
    "\n",
    "앞으로도 많이 배우겠습니다."
   ]
  },
  {
   "cell_type": "code",
   "execution_count": null,
   "metadata": {
    "collapsed": true
   },
   "outputs": [],
   "source": []
  }
 ],
 "metadata": {
  "anaconda-cloud": {},
  "kernelspec": {
   "display_name": "Python [Root]",
   "language": "python",
   "name": "Python [Root]"
  },
  "language_info": {
   "codemirror_mode": {
    "name": "ipython",
    "version": 2
   },
   "file_extension": ".py",
   "mimetype": "text/x-python",
   "name": "python",
   "nbconvert_exporter": "python",
   "pygments_lexer": "ipython2",
   "version": "2.7.12"
  }
 },
 "nbformat": 4,
 "nbformat_minor": 0
}
