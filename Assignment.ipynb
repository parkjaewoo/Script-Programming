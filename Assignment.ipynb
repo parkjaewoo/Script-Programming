{
 "cells": [
  {
   "cell_type": "code",
   "execution_count": 14,
   "metadata": {
    "collapsed": false
   },
   "outputs": [
    {
     "name": "stdout",
     "output_type": "stream",
     "text": [
      "[1, 100, 4, 5]\n"
     ]
    }
   ],
   "source": [
    "L=[1, 2, 3, 4, 5]\n",
    "L[1:3] = [100]\n",
    "print L"
   ]
  },
  {
   "cell_type": "markdown",
   "metadata": {},
   "source": [
    "# 문제 1-1\n",
    "\n",
    "L[1] 와 L[2] 리스트에 100을 저장하는 명령문입니다.\n",
    "\n",
    "\n",
    "리스트의 특성 중 하나는 동일한 값에 의한 슬라이스 치환이 가능하다는 점입니다.\n",
    "\n",
    "\n",
    "그래서 L[1] 와 L[2] 인덱싱이 합쳐져서 나오게 됩니다."
   ]
  },
  {
   "cell_type": "code",
   "execution_count": 18,
   "metadata": {
    "collapsed": false
   },
   "outputs": [
    {
     "name": "stdout",
     "output_type": "stream",
     "text": [
      "<type 'int'>\n",
      "[1, 100, 4, 5]\n"
     ]
    }
   ],
   "source": [
    "L=[1, 2, 3, 4, 5]\n",
    "L[1:3] = [(100)]\n",
    "print type([(100)])\n",
    "print L"
   ]
  },
  {
   "cell_type": "markdown",
   "metadata": {},
   "source": [
    "# 문제 1-2\n",
    "\n",
    "위 문제와 같은 문제입니다.\n",
    "\n",
    "\n",
    "리스트 안에 튜플이 아닌 정수형 수를 슬라이스 치환합니다.\n",
    "\n",
    "\n",
    "결과는 같은 리스트가 나오게 됩니다"
   ]
  },
  {
   "cell_type": "code",
   "execution_count": 6,
   "metadata": {
    "collapsed": false
   },
   "outputs": [
    {
     "ename": "TypeError",
     "evalue": "can only assign an iterable",
     "output_type": "error",
     "traceback": [
      "\u001b[1;31m---------------------------------------------------------------------------\u001b[0m",
      "\u001b[1;31mTypeError\u001b[0m                                 Traceback (most recent call last)",
      "\u001b[1;32m<ipython-input-6-1ad846aab580>\u001b[0m in \u001b[0;36m<module>\u001b[1;34m()\u001b[0m\n\u001b[0;32m      1\u001b[0m \u001b[0mL\u001b[0m\u001b[1;33m=\u001b[0m\u001b[1;33m[\u001b[0m\u001b[1;36m1\u001b[0m\u001b[1;33m,\u001b[0m \u001b[1;36m2\u001b[0m\u001b[1;33m,\u001b[0m \u001b[1;36m3\u001b[0m\u001b[1;33m,\u001b[0m \u001b[1;36m4\u001b[0m\u001b[1;33m,\u001b[0m \u001b[1;36m5\u001b[0m\u001b[1;33m]\u001b[0m\u001b[1;33m\u001b[0m\u001b[0m\n\u001b[1;32m----> 2\u001b[1;33m \u001b[0mL\u001b[0m\u001b[1;33m[\u001b[0m\u001b[1;36m1\u001b[0m\u001b[1;33m:\u001b[0m\u001b[1;36m3\u001b[0m\u001b[1;33m]\u001b[0m \u001b[1;33m=\u001b[0m \u001b[1;36m100\u001b[0m\u001b[1;33m\u001b[0m\u001b[0m\n\u001b[0m\u001b[0;32m      3\u001b[0m \u001b[1;32mprint\u001b[0m \u001b[0mL\u001b[0m\u001b[1;33m\u001b[0m\u001b[0m\n",
      "\u001b[1;31mTypeError\u001b[0m: can only assign an iterable"
     ]
    }
   ],
   "source": [
    "L=[1, 2, 3, 4, 5]\n",
    "L[1:3] = 100\n",
    "print L"
   ]
  },
  {
   "cell_type": "markdown",
   "metadata": {},
   "source": [
    "# 문제 1-3\n",
    "\n",
    "따로따로 값을 저장 할 때는 가능하나, 슬라이싱 치환을 할 때 주의해야 할 점은\n",
    "\n",
    "\n",
    "값을 저장할 때 수를 리스트표현으로 고쳐준 다음에 저장해야 하는 것입니다.\n",
    "\n",
    "문제에서는 리스트 타입으로 변환하지 않고 그대로 저장하려고 했기 때문에 에러가 났습니다."
   ]
  },
  {
   "cell_type": "code",
   "execution_count": 21,
   "metadata": {
    "collapsed": false
   },
   "outputs": [
    {
     "ename": "TypeError",
     "evalue": "can only assign an iterable",
     "output_type": "error",
     "traceback": [
      "\u001b[1;31m---------------------------------------------------------------------------\u001b[0m",
      "\u001b[1;31mTypeError\u001b[0m                                 Traceback (most recent call last)",
      "\u001b[1;32m<ipython-input-21-143eddb86e76>\u001b[0m in \u001b[0;36m<module>\u001b[1;34m()\u001b[0m\n\u001b[0;32m      1\u001b[0m \u001b[0mL\u001b[0m\u001b[1;33m=\u001b[0m\u001b[1;33m[\u001b[0m\u001b[1;36m1\u001b[0m\u001b[1;33m,\u001b[0m \u001b[1;36m2\u001b[0m\u001b[1;33m,\u001b[0m \u001b[1;36m3\u001b[0m\u001b[1;33m,\u001b[0m \u001b[1;36m4\u001b[0m\u001b[1;33m,\u001b[0m \u001b[1;36m5\u001b[0m\u001b[1;33m]\u001b[0m\u001b[1;33m\u001b[0m\u001b[0m\n\u001b[1;32m----> 2\u001b[1;33m \u001b[0mL\u001b[0m\u001b[1;33m[\u001b[0m\u001b[1;36m1\u001b[0m\u001b[1;33m:\u001b[0m\u001b[1;36m3\u001b[0m\u001b[1;33m]\u001b[0m \u001b[1;33m=\u001b[0m \u001b[1;33m(\u001b[0m\u001b[1;36m100\u001b[0m\u001b[1;33m)\u001b[0m\u001b[1;33m\u001b[0m\u001b[0m\n\u001b[0m\u001b[0;32m      3\u001b[0m \u001b[1;32mprint\u001b[0m \u001b[0mL\u001b[0m\u001b[1;33m\u001b[0m\u001b[0m\n",
      "\u001b[1;31mTypeError\u001b[0m: can only assign an iterable"
     ]
    }
   ],
   "source": [
    "L=[1, 2, 3, 4, 5]\n",
    "L[1:3] = (100)\n",
    "print L"
   ]
  },
  {
   "cell_type": "markdown",
   "metadata": {},
   "source": [
    "# 문제 1-4\n",
    "\n",
    "위 문제와 마찬가지로 정수형 수를 리스트로 변환하지 않고,\n",
    "\n",
    "그대로 저장하려고 하니 에러가 났습니다."
   ]
  },
  {
   "cell_type": "code",
   "execution_count": 23,
   "metadata": {
    "collapsed": false
   },
   "outputs": [
    {
     "name": "stdout",
     "output_type": "stream",
     "text": [
      "[1, 100, 101, 102, 4, 5]\n"
     ]
    }
   ],
   "source": [
    "L=[1, 2, 3, 4, 5]\n",
    "L[1:3] = (100, 101, 102)\n",
    "print L"
   ]
  },
  {
   "cell_type": "markdown",
   "metadata": {},
   "source": [
    "# 문제 1-5\n",
    "\n",
    "괄호 안에 1개의 수이면 정수형이 되지만, 2개 이상의 수이면 튜플이 됩니다.\n",
    "\n",
    "\n",
    "리스트 안에 튜플삽입은 가능하므로, 슬라이싱 치환이 되어 값이 저장됩니다.\n",
    "\n",
    "\n",
    "그러므로 L[1],L[2] 에 튜플값이 저장되어 출력된 것을 확인할 수 있습니다."
   ]
  },
  {
   "cell_type": "code",
   "execution_count": 9,
   "metadata": {
    "collapsed": false
   },
   "outputs": [
    {
     "name": "stdout",
     "output_type": "stream",
     "text": [
      "[1, 100, 101, 102, 4, 5]\n"
     ]
    }
   ],
   "source": [
    "L=[1, 2, 3, 4, 5]\n",
    "L[1:3] = [100, 101, 102]\n",
    "print L"
   ]
  },
  {
   "cell_type": "markdown",
   "metadata": {},
   "source": [
    "# 문제 1-6\n",
    "\n",
    "리스트의 특성은 원소 수정이 가능하다는 것입니다.\n",
    "\n",
    "\n",
    "L[1] ~ L[2] 사이에 [100,101,102] 리스트로 슬라이스 치환하여\n",
    "\n",
    "수정합니다.\n"
   ]
  },
  {
   "cell_type": "code",
   "execution_count": 10,
   "metadata": {
    "collapsed": false
   },
   "outputs": [
    {
     "name": "stdout",
     "output_type": "stream",
     "text": [
      "[1, (100, 101, 102), 4, 5]\n"
     ]
    }
   ],
   "source": [
    "L=[1, 2, 3, 4, 5]\n",
    "L[1:3] = [(100, 101, 102)]\n",
    "print L"
   ]
  },
  {
   "cell_type": "markdown",
   "metadata": {},
   "source": [
    "# 문제 1-7\n",
    "\n",
    "L[1]~L[2] 원소가 튜플이라는 것을 강조하기 위해서\n",
    "\n",
    "\n",
    "튜플에 리스트로 감싸서 슬라이싱 치환한 모습입니다.\n"
   ]
  },
  {
   "cell_type": "code",
   "execution_count": 11,
   "metadata": {
    "collapsed": false
   },
   "outputs": [
    {
     "name": "stdout",
     "output_type": "stream",
     "text": [
      "[1, [100, 101, 102], 4, 5]\n"
     ]
    }
   ],
   "source": [
    "L=[1, 2, 3, 4, 5]\n",
    "L[1:3] = [[100, 101, 102]]\n",
    "print L"
   ]
  },
  {
   "cell_type": "markdown",
   "metadata": {},
   "source": [
    "# 문제 1-8\n",
    "\n",
    "마찬가지로 L[1]~L[2] 원소가 리스트라는 것을 강조하기 위해서\n",
    "\n",
    "\n",
    "튜플에 리스트로 감싸서 슬라이싱 치환한 모습입니다."
   ]
  },
  {
   "cell_type": "code",
   "execution_count": 68,
   "metadata": {
    "collapsed": false
   },
   "outputs": [
    {
     "name": "stdout",
     "output_type": "stream",
     "text": [
      "Python and World Hello\n",
      "['Python', 'and', 'World', 'Hello']\n",
      "PythonandWorldHello\n"
     ]
    }
   ],
   "source": [
    "S = 'Hello World and Python'\n",
    "s = S[16:22] + \" \" + S[12:15] + \" \" +S[6:11] +\" \"+ S[0:5]\n",
    "print s\n",
    "print s.split()\n",
    "print \"\".join(s.split())\n"
   ]
  },
  {
   "cell_type": "markdown",
   "metadata": {},
   "source": [
    "# 문제 2\n",
    "\n",
    "요구 사항대로, 단어를 거꾸로 출력하는 것,(슬라이싱 이용)\n",
    "\n",
    "공백을 기준으로 단어를 나눠 리스트화(split 이용)\n",
    "\n",
    "마지막으로 나눈 단어들을 합치는 것까지 완성했습니다.(join 이용)\n",
    "\n",
    "join의 특성상, split함수를 먼저 이용하지 않으면 사용이 불가능합니다."
   ]
  },
  {
   "cell_type": "code",
   "execution_count": 69,
   "metadata": {
    "collapsed": false
   },
   "outputs": [
    {
     "name": "stdout",
     "output_type": "stream",
     "text": [
      "[1, 2, 3, 1, 2, 3, 1, 2, 3]\n",
      "[[1, 2, 3], [1, 2, 3], [1, 2, 3]]\n"
     ]
    }
   ],
   "source": [
    "a = [1, 2, 3]\n",
    "b = a * 3\n",
    "c = [a] * 3\n",
    "print b\n",
    "print c"
   ]
  },
  {
   "cell_type": "markdown",
   "metadata": {},
   "source": [
    "# 문제 3\n",
    "\n",
    "b는 리스트 원소를 3번 반복연산 한 것이고,\n",
    "\n",
    "\n",
    "c는 원소를 리스트형으로 변환하여 3번 곱한 것이기 때문에,\n",
    "\n",
    "\n",
    "b에서는 단순히 같은 원소가 3개씩 있는 리스트가 되고,\n",
    "\n",
    "c에서는 같은 원소가 있는 리스트 3개를 묶은 리스트가 됩니다."
   ]
  },
  {
   "cell_type": "code",
   "execution_count": 188,
   "metadata": {
    "collapsed": false
   },
   "outputs": [
    {
     "name": "stdout",
     "output_type": "stream",
     "text": [
      "['first star', 'second star', 'third star']\n"
     ]
    }
   ],
   "source": [
    "s = '  first star   :   second star   :    third star  '\n",
    "s = s.split(':')\n",
    "i = [w.strip() for w in s]\n",
    "print i"
   ]
  },
  {
   "cell_type": "markdown",
   "metadata": {},
   "source": [
    "# 문제 4\n",
    "\n",
    "split 함수를 이용해서 : 를 기준으로 단어를 나눠서 s에 다시 저장한 다음,\n",
    "\n",
    "\n",
    "strip 함수를 통해서 좌우 공백을 없앤 단어들을 리스트에 대입 시켰습니다."
   ]
  },
  {
   "cell_type": "code",
   "execution_count": 46,
   "metadata": {
    "collapsed": false
   },
   "outputs": [
    {
     "name": "stdout",
     "output_type": "stream",
     "text": [
      "45\n",
      "45\n",
      "25\n",
      "25\n"
     ]
    }
   ],
   "source": [
    "L = []\n",
    "def addall1():\n",
    "    for k in range(10):\n",
    "        L.append(k) # 리터럴\n",
    "    return sum(L)\n",
    "print addall1()\n",
    "\n",
    "def addall(L):\n",
    "    result = [sum(L) for x in range(1)]\n",
    "    return result[0]\n",
    "print addall([1, 2, 3, 4, 5, 6, 7, 8, 9]) #리스트 내포\n",
    "\n",
    "\n",
    "L = []\n",
    "\n",
    "def addallodd1():\n",
    "    for k in range(1,10,2): #리터럴\n",
    "        L.append(k)\n",
    "    return sum(L)\n",
    "print addallodd1()\n",
    "\n",
    "\n",
    "def addallodd(L):\n",
    "    result = [ k for k in range(len(L)+1) if k % 2] #리스트 내포\n",
    "    return sum(result)\n",
    "print addallodd([1, 2, 3, 4, 5, 6, 7, 8, 9])"
   ]
  },
  {
   "cell_type": "markdown",
   "metadata": {},
   "source": [
    "# 문제 5\n",
    "\n",
    "for in 리터럴 방식과 리스트 내포 각각 제시한 모습입니다.\n",
    "\n",
    "리터럴 함수는 매개변수를 주지 않고 단순하게 반복하도록 정의했고, 리스트 내포는 리스트를 매개변수로 하여 정의했습니다.\n",
    "\n",
    "리스트 내포를 통해 반복문을 더 줄일 수 있었습니다."
   ]
  },
  {
   "cell_type": "code",
   "execution_count": 199,
   "metadata": {
    "collapsed": false
   },
   "outputs": [
    {
     "name": "stdout",
     "output_type": "stream",
     "text": [
      "{'high': [4, 5, 6], 'low': [1, 2, 3]}\n",
      "{'high': [4, 5, 6], 'low': [1, 2, 3]}\n",
      "{'high': [4, 5, 6], 'low': [1, 2, 3]}\n",
      "\n",
      "{'high': [4, 500, 6], 'low': [10, 20, 30]}\n",
      "{'high': [4, 500, 6], 'low': [10, 20, 30]}\n",
      "{'high': [4, 500, 6], 'low': [1, 2, 3]}\n"
     ]
    }
   ],
   "source": [
    "L1 = [1, 2, 3]\n",
    "L2 = [4, 5, 6]\n",
    "d = {'low':L1, 'high':L2}\n",
    "e = d\n",
    "f = d.copy()\n",
    "print d\n",
    "print e\n",
    "print f\n",
    "print\n",
    "\n",
    "d['low'] = [10, 20, 30]\n",
    "d['high'][1] = 500\n",
    "print d\n",
    "print e\n",
    "print f"
   ]
  },
  {
   "cell_type": "markdown",
   "metadata": {},
   "source": [
    "# 문제 6\n",
    "\n",
    "### 1)위 코드의 수행 결과 d와 e는 항상 같은 결과를 출력한다. 그 이유는 무엇인가?\n",
    "\n",
    "- d 와 e는 같은 저장공간을 가리키고 있기 때문에 d의 값이 바뀌면 e의 값도 바뀌게 됩니다\n",
    "\n",
    "\n",
    "  결국 d와 e의 값은 항상 똑같게 됩니다.\n",
    "  \n",
    "  \n",
    " ### 2) 위 코드의 수행 결과 마지막 f의 내용은 다음과 같다. 이 때 'high' 키의 값 내용 중 500이 출력된 이유와 'low' 키의 값 내용 중 [1, 2, 3]이 출력된 이유를 설명하시오 ([hint]: shallow copy 관점에서 설명하시오.)\n",
    " \n",
    " \n",
    " f = d.copy() 구문에서 f는 d의 값을 가진 또 다른 객체가 만들어집니다.  즉 d의 값이 아닌 L1,L2의 객체를 공유하는 독립된 객체 \n",
    " \n",
    " \n",
    " f가 만들어 집니다. high 의 값이 500으로 바뀐 이유는 같은 값을 공유하는 객체 L1의 원소값을 직접 바꾸는 '깊은복사'가 이루어 졌기 때문이고\n",
    " \n",
    " \n",
    " low의 값 이 바뀌지 않고 출력된 이유는 d의 값이 바뀌어도 f는 독립적인 객체이기 때문에(얕은복사) 값이 바뀌지 않게 됩니다. "
   ]
  },
  {
   "cell_type": "code",
   "execution_count": 7,
   "metadata": {
    "collapsed": false
   },
   "outputs": [
    {
     "name": "stdout",
     "output_type": "stream",
     "text": [
      "[('five', 5), ('four', 4), ('one', 1), ('three', 3), ('two', 2)]\n",
      "[('two', 2), ('three', 3), ('one', 1), ('four', 4), ('five', 5)]\n",
      "\n",
      "[('one', 1), ('two', 2), ('three', 3), ('four', 4), ('five', 5)]\n",
      "[('five', 5), ('four', 4), ('three', 3), ('two', 2), ('one', 1)]\n"
     ]
    }
   ],
   "source": [
    "dic = {'one':1, 'two':2, 'three':3, 'four':4, 'five':5}\n",
    "Dic = dic.items()\n",
    "Dic.sort()\n",
    "print Dic\n",
    "Dic.sort(reverse=True)\n",
    "print Dic\n",
    "\n",
    "print \n",
    "\n",
    "Dic.sort(key=lambda item:item[1])\n",
    "print Dic\n",
    "Dic.sort(key=lambda item:item[1],reverse=True)\n",
    "print Dic\n",
    "\n",
    "    "
   ]
  },
  {
   "cell_type": "markdown",
   "metadata": {},
   "source": [
    "# 문제 7\n",
    "\n",
    "sort의 특징은 키의 형식과, item, reverse 형식을 매개변수로 받아서 원하는 대로 정렬을 시킬 수 있다는 것입니다.\n",
    "\n",
    "이를 이용해서 정렬을 손쉽게 할 수 있었습니다.\n",
    "\n",
    "첫번째와 두번째 출력은 키의 알파벳 오름차순,내림차순 순서대로 튜플 (키, 값)을 차례대로 출력했습니다.\n",
    "\n",
    "세번째와 네번째 출력은 값의 오름차순,내림차순 순서대로 튜플(키,값)을 차례대로 출력한 모습입니다."
   ]
  },
  {
   "cell_type": "code",
   "execution_count": 1,
   "metadata": {
    "collapsed": false
   },
   "outputs": [
    {
     "name": "stdout",
     "output_type": "stream",
     "text": [
      "104743\n"
     ]
    }
   ],
   "source": [
    "import math\n",
    "\n",
    "def primeNumber(number):\n",
    "    prime = 1\n",
    "    cnt = 1\n",
    "    flag = 0\n",
    "    for_x = 1\n",
    "    while cnt<number :\n",
    "        for_x = for_x + 2\n",
    "        flag = 0\n",
    "        for y in range(2, int(math.sqrt(for_x)+1)) :\n",
    "            if(for_x%y==0):\n",
    "                flag = flag + 1\n",
    "                break\n",
    "        if(flag==0):\n",
    "            cnt = cnt + 1\n",
    "            prime = for_x\n",
    "    return prime\n",
    "\n",
    "\n",
    "print primeNumber(10001)"
   ]
  },
  {
   "cell_type": "markdown",
   "metadata": {},
   "source": [
    "# 오일러 7번 문제\n",
    "\n",
    "처음에는 단순히 다중 for문을 이용하여 풀려고 했으나, 너무 시간이 오래걸려 다시 만들었습니다.\n",
    "\n",
    "\n",
    "소수는 1과 자신만의 수로 나눠진다는 사실을 이용해서 while문을 만들어서 그 안에 약수를 찾도록 했습니다.\n",
    "\n",
    "\n",
    "math 함수의 제곱근을 이용해서(정수로 형변환을 해 주는 이유는 range는 정수만을 매개변수로 받기 때문입니다.)\n",
    "\n",
    "\n",
    "약수가 나오면 바로 break문을 써서 빠져 나옵니다.\n",
    "\n",
    "\n",
    "최종적으로 prime변수를 반환하여 소수의 몇번째 수를 구할 수 있습니다.\n",
    "\n",
    " "
   ]
  },
  {
   "cell_type": "code",
   "execution_count": 6,
   "metadata": {
    "collapsed": false
   },
   "outputs": [
    {
     "name": "stdout",
     "output_type": "stream",
     "text": [
      "40824\n"
     ]
    }
   ],
   "source": [
    "\n",
    "num = '\\\n",
    "73167176531330624919225119674426574742355349194934\\\n",
    "96983520312774506326239578318016984801869478851843\\\n",
    "85861560789112949495459501737958331952853208805511\\\n",
    "12540698747158523863050715693290963295227443043557\\\n",
    "66896648950445244523161731856403098711121722383113\\\n",
    "62229893423380308135336276614282806444486645238749\\\n",
    "30358907296290491560440772390713810515859307960866\\\n",
    "70172427121883998797908792274921901699720888093776\\\n",
    "65727333001053367881220235421809751254540594752243\\\n",
    "52584907711670556013604839586446706324415722155397\\\n",
    "53697817977846174064955149290862569321978468622482\\\n",
    "83972241375657056057490261407972968652414535100474\\\n",
    "82166370484403199890008895243450658541227588666881\\\n",
    "16427171479924442928230863465674813919123162824586\\\n",
    "17866458359124566529476545682848912883142607690042\\\n",
    "24219022671055626321111109370544217506941658960408\\\n",
    "07198403850962455444362981230987879927244284909188\\\n",
    "84580156166097919133875499200524063689912560717606\\\n",
    "05886116467109405077541002256983155200055935729725\\\n",
    "71636269561882670428252483600823257530420752963450'\n",
    "\n",
    "biggestNumber = 0\n",
    "i = 0\n",
    "while i < len(num) - 4:\n",
    "    one = int(num[i]) \n",
    "    two = int(num[i+1])  \n",
    "    three = int(num[i+2]) \n",
    "    four = int(num[i+3])\n",
    "    five = int(num[i+4])\n",
    "    multiple = one*two*three*four*five\n",
    "    if multiple > biggestNumber:\n",
    "        biggestNumber = multiple\n",
    "    i = i + 1 \n",
    "print(biggestNumber)\n"
   ]
  },
  {
   "cell_type": "markdown",
   "metadata": {},
   "source": [
    "# 오일러 8번 문제\n",
    "\n",
    "이 문제는 엄청난 자리수의 숫자를 어떤식으로 받아들일지가 가장 중점인 부분입니다.\n",
    "\n",
    "\n",
    "저는 먼저 문자열로 수를 저장한 후에, 각 인덱스마다 형 변환을 해서 곱하는 식으로 풀었습니다.\n",
    "\n",
    "\n",
    "그 후 원래 저장되어 있던 수보다 곱한 값이 큰 경우 biggestNumber에 다시 저장합니다.\n",
    "\n",
    "\n",
    "그 후 i를 계속 늘려가면서 마지막자리수까지 계산합니다."
   ]
  },
  {
   "cell_type": "code",
   "execution_count": 8,
   "metadata": {
    "collapsed": false
   },
   "outputs": [
    {
     "name": "stdout",
     "output_type": "stream",
     "text": [
      "[31875000]\n"
     ]
    }
   ],
   "source": [
    "print [x*y*(1000-x-y) for x in range(1, 1000) for y in range(x+1, 1000)  if x*x+y*y==(1000-x-y)**2]"
   ]
  },
  {
   "cell_type": "markdown",
   "metadata": {},
   "source": [
    "# 오일러 9번 문제\n",
    "리스트 내포를 이용했습니다. x*y*z를 구하는 문제에서, x,y를 찾으면 z는 1000에서 x+y를 빼준 값이 되니까 x*y*(1000-x-y)로 시작하며,\n",
    "\n",
    "x***x+y***y==(1000-x-b)****2 라는 조건으로 피타고라스의 수를 찾습니다. 여기서 x의 범위는 1부터 1000까지,\n",
    "\n",
    "\n",
    "수가 뒤바뀌어 계산하는 것을 방지하기 위해 y는 시작조건을 x+1보다 크도록 설정했습니다.\n"
   ]
  },
  {
   "cell_type": "code",
   "execution_count": 2,
   "metadata": {
    "collapsed": false
   },
   "outputs": [],
   "source": [
    "import urllib2\n",
    "import sys\n",
    "reload(sys)\n",
    "sys.setdefaultencoding('utf-8')\n",
    "\n",
    "\n",
    "source = urllib2.urlopen(\"http://cse.kut.ac.kr/\").read()\n",
    "\n",
    "\n",
    "newSource=''\n",
    "index = 0\n",
    "\n",
    "while index<len(source):\n",
    "    if source[index:index+4] == '<!--':\n",
    "        while not(source[index:index+3]=='-->'):\n",
    "            index = index + 1\n",
    "        index= index +3\n",
    "    else:\n",
    "        newSource= newSource + source[index]\n",
    "        index = index+ 1\n",
    "   \n",
    "\n",
    "\n",
    "isInTag=True\n",
    "wordList = \"\"\n",
    "for i in newSource:\n",
    "    if i == '<':\n",
    "        isInTag = False\n",
    "        continue\n",
    "    if i == '>':\n",
    "        isInTag = True\n",
    "        continue\n",
    "        \n",
    "    if i == '!' or i == '\"' or i == '#' or i == '$' or i == '%' or i == '&' or i == '\\'' or i == '(' or\n",
    "    i == ')' or i == '*' or i == '+' or i == ',' or i == '-' or i == '.' or i == '/' or i == ':' or\n",
    "    i == ';' or i == '=' or i == '?' or i == '@' or i == '[' or i == ']' or i == '^' or i == '_' or\n",
    "    i == '{' or i == '|' or i == '}' or i == '~':\n",
    "        i == ''\n",
    "    \n",
    "    if isInTag:\n",
    "        wordList += i\n",
    "        \n",
    "\n",
    "\n",
    "wordList2 = unicode(wordList,'utf-8')\n",
    "w = wordList2.split()\n",
    "z = dict()\n",
    "for x in range(len(w)):\n",
    "    z.update(w[x] : count(w[x])\n",
    "\n",
    "print z\n"
   ]
  },
  {
   "cell_type": "markdown",
   "metadata": {},
   "source": [
    "# Incremental Project\n",
    "\n",
    "제 노트북에 이상이 있는 것인지, 결과물을 확인하고 싶어도 확인을 못해서 그냥 올리게 됐습니다.\n",
    "\n",
    "최대한 할 수 있는 데까지 해 봤습니다.\n",
    "\n",
    "중간고사 전에 조교님이 가르쳐 주신대로 주석문을 따로 처리하도록 한 후,\n",
    "\n",
    "태그 안에 있는 문자는 뺀 상태에서, punctuation 문자를 조건문에 넣어 ''표시로 바꾸도록 한 후,\n",
    "\n",
    "split 함수를 통해 공백을 없애고, 리스트화 시켰습니다.\n",
    "\n",
    "그 후 사전을 생성한 후, w의 인덱스 값을 키에, count함수를 값에 설정했습니다( 틀리겠지만, 제 생각엔 이렇게 할 것 같아 넣었습니다.)\n",
    "\n",
    "그 후 z를 출력합니다.\n",
    "\n"
   ]
  },
  {
   "cell_type": "code",
   "execution_count": 2,
   "metadata": {
    "collapsed": false
   },
   "outputs": [
    {
     "name": "stdout",
     "output_type": "stream",
     "text": [
      "!\"#$%&'()*+,-./:;<=>?@[\\]^_`{|}~\n"
     ]
    }
   ],
   "source": [
    "import string\n",
    "print string.punctuation"
   ]
  },
  {
   "cell_type": "markdown",
   "metadata": {},
   "source": [
    "# 느낀점.\n",
    "\n",
    "오일러 문제와 Incremental 문제가 저에겐 상당히 시간도 오래걸리고 어려운 과제였습니다.\n",
    "\n",
    "다만 그 외의 문제들은 풀면서 함수의 특징에 대해서도 배울 수 있었고, 저에게 도움이 많이 됐었던 것 같습니다.\n",
    "\n",
    "나중에 Incremental 문제를 다시 한 번 풀어주시는 시간이 있었으면 좋겠습니다.\n",
    "\n",
    "앞으로도 더욱 열심히 하겠습니다. "
   ]
  },
  {
   "cell_type": "code",
   "execution_count": null,
   "metadata": {
    "collapsed": true
   },
   "outputs": [],
   "source": []
  }
 ],
 "metadata": {
  "anaconda-cloud": {},
  "kernelspec": {
   "display_name": "Python [Root]",
   "language": "python",
   "name": "Python [Root]"
  },
  "language_info": {
   "codemirror_mode": {
    "name": "ipython",
    "version": 2
   },
   "file_extension": ".py",
   "mimetype": "text/x-python",
   "name": "python",
   "nbconvert_exporter": "python",
   "pygments_lexer": "ipython2",
   "version": "2.7.12"
  }
 },
 "nbformat": 4,
 "nbformat_minor": 0
}
